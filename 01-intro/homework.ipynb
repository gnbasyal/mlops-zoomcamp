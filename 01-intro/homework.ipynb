{
 "cells": [
  {
   "cell_type": "markdown",
   "id": "05c34e95",
   "metadata": {},
   "source": [
    "## Homework\n",
    "**Zoomcamp homework link:** https://github.com/DataTalksClub/mlops-zoomcamp/blob/main/cohorts/2024/01-intro/homework.md  \n",
    "\n",
    "For this homework, we will use the 2023 January and February Yellow Taxi trip records.\n",
    "\n",
    "### Data Download Links\n",
    "- **January:** https://d37ci6vzurychx.cloudfront.net/trip-data/yellow_tripdata_2023-01.parquet\n",
    "- **February:** https://d37ci6vzurychx.cloudfront.net/trip-data/yellow_tripdata_2023-02.parquet"
   ]
  },
  {
   "cell_type": "markdown",
   "id": "5625ae30",
   "metadata": {},
   "source": [
    "Reading the data"
   ]
  },
  {
   "cell_type": "code",
   "execution_count": 1,
   "id": "bb8235e3",
   "metadata": {},
   "outputs": [],
   "source": [
    "import pandas as pd\n",
    "\n",
    "df_yellow_jan23 = pd.read_parquet('data/yellow_tripdata_2023-01.parquet')\n",
    "df_yellow_feb23 = pd.read_parquet('data/yellow_tripdata_2023-02.parquet')"
   ]
  },
  {
   "cell_type": "code",
   "execution_count": null,
   "id": "26f9aba5",
   "metadata": {},
   "outputs": [
    {
     "data": {
      "text/html": [
       "<div>\n",
       "<style scoped>\n",
       "    .dataframe tbody tr th:only-of-type {\n",
       "        vertical-align: middle;\n",
       "    }\n",
       "\n",
       "    .dataframe tbody tr th {\n",
       "        vertical-align: top;\n",
       "    }\n",
       "\n",
       "    .dataframe thead th {\n",
       "        text-align: right;\n",
       "    }\n",
       "</style>\n",
       "<table border=\"1\" class=\"dataframe\">\n",
       "  <thead>\n",
       "    <tr style=\"text-align: right;\">\n",
       "      <th></th>\n",
       "      <th>VendorID</th>\n",
       "      <th>tpep_pickup_datetime</th>\n",
       "      <th>tpep_dropoff_datetime</th>\n",
       "      <th>passenger_count</th>\n",
       "      <th>trip_distance</th>\n",
       "      <th>RatecodeID</th>\n",
       "      <th>store_and_fwd_flag</th>\n",
       "      <th>PULocationID</th>\n",
       "      <th>DOLocationID</th>\n",
       "      <th>payment_type</th>\n",
       "      <th>fare_amount</th>\n",
       "      <th>extra</th>\n",
       "      <th>mta_tax</th>\n",
       "      <th>tip_amount</th>\n",
       "      <th>tolls_amount</th>\n",
       "      <th>improvement_surcharge</th>\n",
       "      <th>total_amount</th>\n",
       "      <th>congestion_surcharge</th>\n",
       "      <th>Airport_fee</th>\n",
       "    </tr>\n",
       "  </thead>\n",
       "  <tbody>\n",
       "    <tr>\n",
       "      <th>0</th>\n",
       "      <td>1</td>\n",
       "      <td>2023-02-01 00:32:53</td>\n",
       "      <td>2023-02-01 00:34:34</td>\n",
       "      <td>2.0</td>\n",
       "      <td>0.30</td>\n",
       "      <td>1.0</td>\n",
       "      <td>N</td>\n",
       "      <td>142</td>\n",
       "      <td>163</td>\n",
       "      <td>2</td>\n",
       "      <td>4.4</td>\n",
       "      <td>3.50</td>\n",
       "      <td>0.5</td>\n",
       "      <td>0.0</td>\n",
       "      <td>0.0</td>\n",
       "      <td>1.0</td>\n",
       "      <td>9.40</td>\n",
       "      <td>2.5</td>\n",
       "      <td>0.00</td>\n",
       "    </tr>\n",
       "    <tr>\n",
       "      <th>1</th>\n",
       "      <td>2</td>\n",
       "      <td>2023-02-01 00:35:16</td>\n",
       "      <td>2023-02-01 00:35:30</td>\n",
       "      <td>1.0</td>\n",
       "      <td>0.00</td>\n",
       "      <td>1.0</td>\n",
       "      <td>N</td>\n",
       "      <td>71</td>\n",
       "      <td>71</td>\n",
       "      <td>4</td>\n",
       "      <td>-3.0</td>\n",
       "      <td>-1.00</td>\n",
       "      <td>-0.5</td>\n",
       "      <td>0.0</td>\n",
       "      <td>0.0</td>\n",
       "      <td>-1.0</td>\n",
       "      <td>-5.50</td>\n",
       "      <td>0.0</td>\n",
       "      <td>0.00</td>\n",
       "    </tr>\n",
       "    <tr>\n",
       "      <th>2</th>\n",
       "      <td>2</td>\n",
       "      <td>2023-02-01 00:35:16</td>\n",
       "      <td>2023-02-01 00:35:30</td>\n",
       "      <td>1.0</td>\n",
       "      <td>0.00</td>\n",
       "      <td>1.0</td>\n",
       "      <td>N</td>\n",
       "      <td>71</td>\n",
       "      <td>71</td>\n",
       "      <td>4</td>\n",
       "      <td>3.0</td>\n",
       "      <td>1.00</td>\n",
       "      <td>0.5</td>\n",
       "      <td>0.0</td>\n",
       "      <td>0.0</td>\n",
       "      <td>1.0</td>\n",
       "      <td>5.50</td>\n",
       "      <td>0.0</td>\n",
       "      <td>0.00</td>\n",
       "    </tr>\n",
       "    <tr>\n",
       "      <th>3</th>\n",
       "      <td>1</td>\n",
       "      <td>2023-02-01 00:29:33</td>\n",
       "      <td>2023-02-01 01:01:38</td>\n",
       "      <td>0.0</td>\n",
       "      <td>18.80</td>\n",
       "      <td>1.0</td>\n",
       "      <td>N</td>\n",
       "      <td>132</td>\n",
       "      <td>26</td>\n",
       "      <td>1</td>\n",
       "      <td>70.9</td>\n",
       "      <td>2.25</td>\n",
       "      <td>0.5</td>\n",
       "      <td>0.0</td>\n",
       "      <td>0.0</td>\n",
       "      <td>1.0</td>\n",
       "      <td>74.65</td>\n",
       "      <td>0.0</td>\n",
       "      <td>1.25</td>\n",
       "    </tr>\n",
       "    <tr>\n",
       "      <th>4</th>\n",
       "      <td>2</td>\n",
       "      <td>2023-02-01 00:12:28</td>\n",
       "      <td>2023-02-01 00:25:46</td>\n",
       "      <td>1.0</td>\n",
       "      <td>3.22</td>\n",
       "      <td>1.0</td>\n",
       "      <td>N</td>\n",
       "      <td>161</td>\n",
       "      <td>145</td>\n",
       "      <td>1</td>\n",
       "      <td>17.0</td>\n",
       "      <td>1.00</td>\n",
       "      <td>0.5</td>\n",
       "      <td>3.3</td>\n",
       "      <td>0.0</td>\n",
       "      <td>1.0</td>\n",
       "      <td>25.30</td>\n",
       "      <td>2.5</td>\n",
       "      <td>0.00</td>\n",
       "    </tr>\n",
       "  </tbody>\n",
       "</table>\n",
       "</div>"
      ],
      "text/plain": [
       "   VendorID tpep_pickup_datetime tpep_dropoff_datetime  passenger_count  \\\n",
       "0         1  2023-02-01 00:32:53   2023-02-01 00:34:34              2.0   \n",
       "1         2  2023-02-01 00:35:16   2023-02-01 00:35:30              1.0   \n",
       "2         2  2023-02-01 00:35:16   2023-02-01 00:35:30              1.0   \n",
       "3         1  2023-02-01 00:29:33   2023-02-01 01:01:38              0.0   \n",
       "4         2  2023-02-01 00:12:28   2023-02-01 00:25:46              1.0   \n",
       "\n",
       "   trip_distance  RatecodeID store_and_fwd_flag  PULocationID  DOLocationID  \\\n",
       "0           0.30         1.0                  N           142           163   \n",
       "1           0.00         1.0                  N            71            71   \n",
       "2           0.00         1.0                  N            71            71   \n",
       "3          18.80         1.0                  N           132            26   \n",
       "4           3.22         1.0                  N           161           145   \n",
       "\n",
       "   payment_type  fare_amount  extra  mta_tax  tip_amount  tolls_amount  \\\n",
       "0             2          4.4   3.50      0.5         0.0           0.0   \n",
       "1             4         -3.0  -1.00     -0.5         0.0           0.0   \n",
       "2             4          3.0   1.00      0.5         0.0           0.0   \n",
       "3             1         70.9   2.25      0.5         0.0           0.0   \n",
       "4             1         17.0   1.00      0.5         3.3           0.0   \n",
       "\n",
       "   improvement_surcharge  total_amount  congestion_surcharge  Airport_fee  \n",
       "0                    1.0          9.40                   2.5         0.00  \n",
       "1                   -1.0         -5.50                   0.0         0.00  \n",
       "2                    1.0          5.50                   0.0         0.00  \n",
       "3                    1.0         74.65                   0.0         1.25  \n",
       "4                    1.0         25.30                   2.5         0.00  "
      ]
     },
     "execution_count": 2,
     "metadata": {},
     "output_type": "execute_result"
    }
   ],
   "source": [
    "df_yellow_feb23.head()"
   ]
  },
  {
   "cell_type": "code",
   "execution_count": 3,
   "id": "8b009ccb",
   "metadata": {},
   "outputs": [
    {
     "name": "stdout",
     "output_type": "stream",
     "text": [
      "The data for January has 19 columns\n"
     ]
    }
   ],
   "source": [
    "print(f\"The data for January has {len(df_yellow_jan23.columns)} columns\")"
   ]
  },
  {
   "cell_type": "markdown",
   "id": "c7f10983",
   "metadata": {},
   "source": [
    "Computing Duration"
   ]
  },
  {
   "cell_type": "code",
   "execution_count": 4,
   "id": "9e686d3c",
   "metadata": {},
   "outputs": [
    {
     "data": {
      "text/html": [
       "<div>\n",
       "<style scoped>\n",
       "    .dataframe tbody tr th:only-of-type {\n",
       "        vertical-align: middle;\n",
       "    }\n",
       "\n",
       "    .dataframe tbody tr th {\n",
       "        vertical-align: top;\n",
       "    }\n",
       "\n",
       "    .dataframe thead th {\n",
       "        text-align: right;\n",
       "    }\n",
       "</style>\n",
       "<table border=\"1\" class=\"dataframe\">\n",
       "  <thead>\n",
       "    <tr style=\"text-align: right;\">\n",
       "      <th></th>\n",
       "      <th>VendorID</th>\n",
       "      <th>tpep_pickup_datetime</th>\n",
       "      <th>tpep_dropoff_datetime</th>\n",
       "      <th>passenger_count</th>\n",
       "      <th>trip_distance</th>\n",
       "      <th>RatecodeID</th>\n",
       "      <th>store_and_fwd_flag</th>\n",
       "      <th>PULocationID</th>\n",
       "      <th>DOLocationID</th>\n",
       "      <th>payment_type</th>\n",
       "      <th>fare_amount</th>\n",
       "      <th>extra</th>\n",
       "      <th>mta_tax</th>\n",
       "      <th>tip_amount</th>\n",
       "      <th>tolls_amount</th>\n",
       "      <th>improvement_surcharge</th>\n",
       "      <th>total_amount</th>\n",
       "      <th>congestion_surcharge</th>\n",
       "      <th>airport_fee</th>\n",
       "      <th>duration</th>\n",
       "    </tr>\n",
       "  </thead>\n",
       "  <tbody>\n",
       "    <tr>\n",
       "      <th>0</th>\n",
       "      <td>2</td>\n",
       "      <td>2023-01-01 00:32:10</td>\n",
       "      <td>2023-01-01 00:40:36</td>\n",
       "      <td>1.0</td>\n",
       "      <td>0.97</td>\n",
       "      <td>1.0</td>\n",
       "      <td>N</td>\n",
       "      <td>161</td>\n",
       "      <td>141</td>\n",
       "      <td>2</td>\n",
       "      <td>9.3</td>\n",
       "      <td>1.00</td>\n",
       "      <td>0.5</td>\n",
       "      <td>0.00</td>\n",
       "      <td>0.0</td>\n",
       "      <td>1.0</td>\n",
       "      <td>14.30</td>\n",
       "      <td>2.5</td>\n",
       "      <td>0.00</td>\n",
       "      <td>8.433333</td>\n",
       "    </tr>\n",
       "    <tr>\n",
       "      <th>1</th>\n",
       "      <td>2</td>\n",
       "      <td>2023-01-01 00:55:08</td>\n",
       "      <td>2023-01-01 01:01:27</td>\n",
       "      <td>1.0</td>\n",
       "      <td>1.10</td>\n",
       "      <td>1.0</td>\n",
       "      <td>N</td>\n",
       "      <td>43</td>\n",
       "      <td>237</td>\n",
       "      <td>1</td>\n",
       "      <td>7.9</td>\n",
       "      <td>1.00</td>\n",
       "      <td>0.5</td>\n",
       "      <td>4.00</td>\n",
       "      <td>0.0</td>\n",
       "      <td>1.0</td>\n",
       "      <td>16.90</td>\n",
       "      <td>2.5</td>\n",
       "      <td>0.00</td>\n",
       "      <td>6.316667</td>\n",
       "    </tr>\n",
       "    <tr>\n",
       "      <th>2</th>\n",
       "      <td>2</td>\n",
       "      <td>2023-01-01 00:25:04</td>\n",
       "      <td>2023-01-01 00:37:49</td>\n",
       "      <td>1.0</td>\n",
       "      <td>2.51</td>\n",
       "      <td>1.0</td>\n",
       "      <td>N</td>\n",
       "      <td>48</td>\n",
       "      <td>238</td>\n",
       "      <td>1</td>\n",
       "      <td>14.9</td>\n",
       "      <td>1.00</td>\n",
       "      <td>0.5</td>\n",
       "      <td>15.00</td>\n",
       "      <td>0.0</td>\n",
       "      <td>1.0</td>\n",
       "      <td>34.90</td>\n",
       "      <td>2.5</td>\n",
       "      <td>0.00</td>\n",
       "      <td>12.750000</td>\n",
       "    </tr>\n",
       "    <tr>\n",
       "      <th>3</th>\n",
       "      <td>1</td>\n",
       "      <td>2023-01-01 00:03:48</td>\n",
       "      <td>2023-01-01 00:13:25</td>\n",
       "      <td>0.0</td>\n",
       "      <td>1.90</td>\n",
       "      <td>1.0</td>\n",
       "      <td>N</td>\n",
       "      <td>138</td>\n",
       "      <td>7</td>\n",
       "      <td>1</td>\n",
       "      <td>12.1</td>\n",
       "      <td>7.25</td>\n",
       "      <td>0.5</td>\n",
       "      <td>0.00</td>\n",
       "      <td>0.0</td>\n",
       "      <td>1.0</td>\n",
       "      <td>20.85</td>\n",
       "      <td>0.0</td>\n",
       "      <td>1.25</td>\n",
       "      <td>9.616667</td>\n",
       "    </tr>\n",
       "    <tr>\n",
       "      <th>4</th>\n",
       "      <td>2</td>\n",
       "      <td>2023-01-01 00:10:29</td>\n",
       "      <td>2023-01-01 00:21:19</td>\n",
       "      <td>1.0</td>\n",
       "      <td>1.43</td>\n",
       "      <td>1.0</td>\n",
       "      <td>N</td>\n",
       "      <td>107</td>\n",
       "      <td>79</td>\n",
       "      <td>1</td>\n",
       "      <td>11.4</td>\n",
       "      <td>1.00</td>\n",
       "      <td>0.5</td>\n",
       "      <td>3.28</td>\n",
       "      <td>0.0</td>\n",
       "      <td>1.0</td>\n",
       "      <td>19.68</td>\n",
       "      <td>2.5</td>\n",
       "      <td>0.00</td>\n",
       "      <td>10.833333</td>\n",
       "    </tr>\n",
       "  </tbody>\n",
       "</table>\n",
       "</div>"
      ],
      "text/plain": [
       "   VendorID tpep_pickup_datetime tpep_dropoff_datetime  passenger_count  \\\n",
       "0         2  2023-01-01 00:32:10   2023-01-01 00:40:36              1.0   \n",
       "1         2  2023-01-01 00:55:08   2023-01-01 01:01:27              1.0   \n",
       "2         2  2023-01-01 00:25:04   2023-01-01 00:37:49              1.0   \n",
       "3         1  2023-01-01 00:03:48   2023-01-01 00:13:25              0.0   \n",
       "4         2  2023-01-01 00:10:29   2023-01-01 00:21:19              1.0   \n",
       "\n",
       "   trip_distance  RatecodeID store_and_fwd_flag  PULocationID  DOLocationID  \\\n",
       "0           0.97         1.0                  N           161           141   \n",
       "1           1.10         1.0                  N            43           237   \n",
       "2           2.51         1.0                  N            48           238   \n",
       "3           1.90         1.0                  N           138             7   \n",
       "4           1.43         1.0                  N           107            79   \n",
       "\n",
       "   payment_type  fare_amount  extra  mta_tax  tip_amount  tolls_amount  \\\n",
       "0             2          9.3   1.00      0.5        0.00           0.0   \n",
       "1             1          7.9   1.00      0.5        4.00           0.0   \n",
       "2             1         14.9   1.00      0.5       15.00           0.0   \n",
       "3             1         12.1   7.25      0.5        0.00           0.0   \n",
       "4             1         11.4   1.00      0.5        3.28           0.0   \n",
       "\n",
       "   improvement_surcharge  total_amount  congestion_surcharge  airport_fee  \\\n",
       "0                    1.0         14.30                   2.5         0.00   \n",
       "1                    1.0         16.90                   2.5         0.00   \n",
       "2                    1.0         34.90                   2.5         0.00   \n",
       "3                    1.0         20.85                   0.0         1.25   \n",
       "4                    1.0         19.68                   2.5         0.00   \n",
       "\n",
       "    duration  \n",
       "0   8.433333  \n",
       "1   6.316667  \n",
       "2  12.750000  \n",
       "3   9.616667  \n",
       "4  10.833333  "
      ]
     },
     "execution_count": 4,
     "metadata": {},
     "output_type": "execute_result"
    }
   ],
   "source": [
    "df_train = df_yellow_jan23.copy()\n",
    "df_train['duration'] = df_train.tpep_dropoff_datetime - df_train.tpep_pickup_datetime\n",
    "df_train.duration = df_train.duration.apply(lambda td: td.total_seconds() / 60)\n",
    "df_train.head()"
   ]
  },
  {
   "cell_type": "code",
   "execution_count": 5,
   "id": "8c670908",
   "metadata": {},
   "outputs": [
    {
     "name": "stdout",
     "output_type": "stream",
     "text": [
      "The standard deviation of the trips duration in January is 42.594351241920904\n"
     ]
    }
   ],
   "source": [
    "std_dev = df_train['duration'].std()\n",
    "print(f'The standard deviation of the trips duration in January is {std_dev}')"
   ]
  },
  {
   "cell_type": "markdown",
   "id": "113dcf77",
   "metadata": {},
   "source": [
    "Dropping outliers"
   ]
  },
  {
   "cell_type": "code",
   "execution_count": 6,
   "id": "e58040ec",
   "metadata": {},
   "outputs": [
    {
     "name": "stdout",
     "output_type": "stream",
     "text": [
      "After dropping the outliers, 98.1220282212598% of the records are left.\n"
     ]
    }
   ],
   "source": [
    "# We will keep only the records where the duration was between 1 and 60 minutes\n",
    "len_data = len(df_train)\n",
    "df_train = df_train[(df_train.duration >= 1) & (df_train.duration <= 60)]\n",
    "len_data_betw_1_and_60 = len(df_train)\n",
    "\n",
    "print(f\"After dropping the outliers, {len_data_betw_1_and_60/len_data * 100}% of the records are left.\")"
   ]
  },
  {
   "cell_type": "markdown",
   "id": "653b2ced",
   "metadata": {},
   "source": [
    "One-hot encoding"
   ]
  },
  {
   "cell_type": "code",
   "execution_count": 7,
   "id": "94c45e3e",
   "metadata": {},
   "outputs": [],
   "source": [
    "categorical_features = ['PULocationID', 'DOLocationID']\n",
    "numerical_features = ['trip_distance']\n",
    "\n",
    "# casting feature columns as strings for one hot encoding\n",
    "df_train[categorical_features] = df_train[categorical_features].astype(str)\n",
    "\n",
    "# turning the df into a list of dictionaries\n",
    "train_dicts = df_train[categorical_features + numerical_features].to_dict(orient='records')"
   ]
  },
  {
   "cell_type": "code",
   "execution_count": 8,
   "id": "e1fd15be",
   "metadata": {},
   "outputs": [
    {
     "data": {
      "text/plain": [
       "[{'PULocationID': '161', 'DOLocationID': '141', 'trip_distance': 0.97},\n",
       " {'PULocationID': '43', 'DOLocationID': '237', 'trip_distance': 1.1},\n",
       " {'PULocationID': '48', 'DOLocationID': '238', 'trip_distance': 2.51},\n",
       " {'PULocationID': '138', 'DOLocationID': '7', 'trip_distance': 1.9},\n",
       " {'PULocationID': '107', 'DOLocationID': '79', 'trip_distance': 1.43}]"
      ]
     },
     "execution_count": 8,
     "metadata": {},
     "output_type": "execute_result"
    }
   ],
   "source": [
    "train_dicts[:5]"
   ]
  },
  {
   "cell_type": "code",
   "execution_count": 9,
   "id": "325e276e",
   "metadata": {},
   "outputs": [],
   "source": [
    "from sklearn.feature_extraction import DictVectorizer\n",
    "from sklearn.linear_model import LinearRegression\n",
    "\n",
    "dv = DictVectorizer()\n",
    "X_train = dv.fit_transform(train_dicts)\n",
    "\n",
    "# The dictionary vectorizer automaically converts string features into one hot encoded columns"
   ]
  },
  {
   "cell_type": "code",
   "execution_count": 10,
   "id": "3e737ea9",
   "metadata": {},
   "outputs": [
    {
     "data": {
      "text/plain": [
       "<3009173x516 sparse matrix of type '<class 'numpy.float64'>'\n",
       "\twith 9027519 stored elements in Compressed Sparse Row format>"
      ]
     },
     "execution_count": 10,
     "metadata": {},
     "output_type": "execute_result"
    }
   ],
   "source": [
    "X_train"
   ]
  },
  {
   "cell_type": "code",
   "execution_count": 11,
   "id": "e7aabc3b",
   "metadata": {},
   "outputs": [
    {
     "data": {
      "text/plain": [
       "array(['DOLocationID=1', 'DOLocationID=10', 'DOLocationID=100',\n",
       "       'DOLocationID=101', 'DOLocationID=102', 'DOLocationID=106',\n",
       "       'DOLocationID=107', 'DOLocationID=108', 'DOLocationID=109',\n",
       "       'DOLocationID=11', 'DOLocationID=111', 'DOLocationID=112',\n",
       "       'DOLocationID=113', 'DOLocationID=114', 'DOLocationID=115',\n",
       "       'DOLocationID=116', 'DOLocationID=117', 'DOLocationID=118',\n",
       "       'DOLocationID=119', 'DOLocationID=12', 'DOLocationID=120',\n",
       "       'DOLocationID=121', 'DOLocationID=122', 'DOLocationID=123',\n",
       "       'DOLocationID=124', 'DOLocationID=125', 'DOLocationID=126',\n",
       "       'DOLocationID=127', 'DOLocationID=128', 'DOLocationID=129',\n",
       "       'DOLocationID=13', 'DOLocationID=130', 'DOLocationID=131',\n",
       "       'DOLocationID=132', 'DOLocationID=133', 'DOLocationID=134',\n",
       "       'DOLocationID=135', 'DOLocationID=136', 'DOLocationID=137',\n",
       "       'DOLocationID=138', 'DOLocationID=139', 'DOLocationID=14',\n",
       "       'DOLocationID=140', 'DOLocationID=141', 'DOLocationID=142',\n",
       "       'DOLocationID=143', 'DOLocationID=144', 'DOLocationID=145',\n",
       "       'DOLocationID=146', 'DOLocationID=147', 'DOLocationID=148',\n",
       "       'DOLocationID=149', 'DOLocationID=15', 'DOLocationID=150',\n",
       "       'DOLocationID=151', 'DOLocationID=152', 'DOLocationID=153',\n",
       "       'DOLocationID=154', 'DOLocationID=155', 'DOLocationID=156',\n",
       "       'DOLocationID=157', 'DOLocationID=158', 'DOLocationID=159',\n",
       "       'DOLocationID=16', 'DOLocationID=160', 'DOLocationID=161',\n",
       "       'DOLocationID=162', 'DOLocationID=163', 'DOLocationID=164',\n",
       "       'DOLocationID=165', 'DOLocationID=166', 'DOLocationID=167',\n",
       "       'DOLocationID=168', 'DOLocationID=169', 'DOLocationID=17',\n",
       "       'DOLocationID=170', 'DOLocationID=171', 'DOLocationID=172',\n",
       "       'DOLocationID=173', 'DOLocationID=174', 'DOLocationID=175',\n",
       "       'DOLocationID=176', 'DOLocationID=177', 'DOLocationID=178',\n",
       "       'DOLocationID=179', 'DOLocationID=18', 'DOLocationID=180',\n",
       "       'DOLocationID=181', 'DOLocationID=182', 'DOLocationID=183',\n",
       "       'DOLocationID=184', 'DOLocationID=185', 'DOLocationID=186',\n",
       "       'DOLocationID=187', 'DOLocationID=188', 'DOLocationID=189',\n",
       "       'DOLocationID=19', 'DOLocationID=190', 'DOLocationID=191',\n",
       "       'DOLocationID=192', 'DOLocationID=193', 'DOLocationID=194',\n",
       "       'DOLocationID=195', 'DOLocationID=196', 'DOLocationID=197',\n",
       "       'DOLocationID=198', 'DOLocationID=2', 'DOLocationID=20',\n",
       "       'DOLocationID=200', 'DOLocationID=201', 'DOLocationID=202',\n",
       "       'DOLocationID=203', 'DOLocationID=204', 'DOLocationID=205',\n",
       "       'DOLocationID=206', 'DOLocationID=207', 'DOLocationID=208',\n",
       "       'DOLocationID=209', 'DOLocationID=21', 'DOLocationID=210',\n",
       "       'DOLocationID=211', 'DOLocationID=212', 'DOLocationID=213',\n",
       "       'DOLocationID=214', 'DOLocationID=215', 'DOLocationID=216',\n",
       "       'DOLocationID=217', 'DOLocationID=218', 'DOLocationID=219',\n",
       "       'DOLocationID=22', 'DOLocationID=220', 'DOLocationID=221',\n",
       "       'DOLocationID=222', 'DOLocationID=223', 'DOLocationID=224',\n",
       "       'DOLocationID=225', 'DOLocationID=226', 'DOLocationID=227',\n",
       "       'DOLocationID=228', 'DOLocationID=229', 'DOLocationID=23',\n",
       "       'DOLocationID=230', 'DOLocationID=231', 'DOLocationID=232',\n",
       "       'DOLocationID=233', 'DOLocationID=234', 'DOLocationID=235',\n",
       "       'DOLocationID=236', 'DOLocationID=237', 'DOLocationID=238',\n",
       "       'DOLocationID=239', 'DOLocationID=24', 'DOLocationID=240',\n",
       "       'DOLocationID=241', 'DOLocationID=242', 'DOLocationID=243',\n",
       "       'DOLocationID=244', 'DOLocationID=245', 'DOLocationID=246',\n",
       "       'DOLocationID=247', 'DOLocationID=248', 'DOLocationID=249',\n",
       "       'DOLocationID=25', 'DOLocationID=250', 'DOLocationID=251',\n",
       "       'DOLocationID=252', 'DOLocationID=253', 'DOLocationID=254',\n",
       "       'DOLocationID=255', 'DOLocationID=256', 'DOLocationID=257',\n",
       "       'DOLocationID=258', 'DOLocationID=259', 'DOLocationID=26',\n",
       "       'DOLocationID=260', 'DOLocationID=261', 'DOLocationID=262',\n",
       "       'DOLocationID=263', 'DOLocationID=264', 'DOLocationID=265',\n",
       "       'DOLocationID=27', 'DOLocationID=28', 'DOLocationID=29',\n",
       "       'DOLocationID=3', 'DOLocationID=30', 'DOLocationID=31',\n",
       "       'DOLocationID=32', 'DOLocationID=33', 'DOLocationID=34',\n",
       "       'DOLocationID=35', 'DOLocationID=36', 'DOLocationID=37',\n",
       "       'DOLocationID=38', 'DOLocationID=39', 'DOLocationID=4',\n",
       "       'DOLocationID=40', 'DOLocationID=41', 'DOLocationID=42',\n",
       "       'DOLocationID=43', 'DOLocationID=44', 'DOLocationID=45',\n",
       "       'DOLocationID=46', 'DOLocationID=47', 'DOLocationID=48',\n",
       "       'DOLocationID=49', 'DOLocationID=5', 'DOLocationID=50',\n",
       "       'DOLocationID=51', 'DOLocationID=52', 'DOLocationID=53',\n",
       "       'DOLocationID=54', 'DOLocationID=55', 'DOLocationID=56',\n",
       "       'DOLocationID=57', 'DOLocationID=58', 'DOLocationID=59',\n",
       "       'DOLocationID=6', 'DOLocationID=60', 'DOLocationID=61',\n",
       "       'DOLocationID=62', 'DOLocationID=63', 'DOLocationID=64',\n",
       "       'DOLocationID=65', 'DOLocationID=66', 'DOLocationID=67',\n",
       "       'DOLocationID=68', 'DOLocationID=69', 'DOLocationID=7',\n",
       "       'DOLocationID=70', 'DOLocationID=71', 'DOLocationID=72',\n",
       "       'DOLocationID=73', 'DOLocationID=74', 'DOLocationID=75',\n",
       "       'DOLocationID=76', 'DOLocationID=77', 'DOLocationID=78',\n",
       "       'DOLocationID=79', 'DOLocationID=8', 'DOLocationID=80',\n",
       "       'DOLocationID=81', 'DOLocationID=82', 'DOLocationID=83',\n",
       "       'DOLocationID=84', 'DOLocationID=85', 'DOLocationID=86',\n",
       "       'DOLocationID=87', 'DOLocationID=88', 'DOLocationID=89',\n",
       "       'DOLocationID=9', 'DOLocationID=90', 'DOLocationID=91',\n",
       "       'DOLocationID=92', 'DOLocationID=93', 'DOLocationID=94',\n",
       "       'DOLocationID=95', 'DOLocationID=96', 'DOLocationID=97',\n",
       "       'DOLocationID=98', 'DOLocationID=99', 'PULocationID=1',\n",
       "       'PULocationID=10', 'PULocationID=100', 'PULocationID=101',\n",
       "       'PULocationID=102', 'PULocationID=106', 'PULocationID=107',\n",
       "       'PULocationID=108', 'PULocationID=109', 'PULocationID=11',\n",
       "       'PULocationID=111', 'PULocationID=112', 'PULocationID=113',\n",
       "       'PULocationID=114', 'PULocationID=115', 'PULocationID=116',\n",
       "       'PULocationID=117', 'PULocationID=118', 'PULocationID=119',\n",
       "       'PULocationID=12', 'PULocationID=120', 'PULocationID=121',\n",
       "       'PULocationID=122', 'PULocationID=123', 'PULocationID=124',\n",
       "       'PULocationID=125', 'PULocationID=126', 'PULocationID=127',\n",
       "       'PULocationID=128', 'PULocationID=129', 'PULocationID=13',\n",
       "       'PULocationID=130', 'PULocationID=131', 'PULocationID=132',\n",
       "       'PULocationID=133', 'PULocationID=134', 'PULocationID=135',\n",
       "       'PULocationID=136', 'PULocationID=137', 'PULocationID=138',\n",
       "       'PULocationID=139', 'PULocationID=14', 'PULocationID=140',\n",
       "       'PULocationID=141', 'PULocationID=142', 'PULocationID=143',\n",
       "       'PULocationID=144', 'PULocationID=145', 'PULocationID=146',\n",
       "       'PULocationID=147', 'PULocationID=148', 'PULocationID=149',\n",
       "       'PULocationID=15', 'PULocationID=150', 'PULocationID=151',\n",
       "       'PULocationID=152', 'PULocationID=153', 'PULocationID=154',\n",
       "       'PULocationID=155', 'PULocationID=156', 'PULocationID=157',\n",
       "       'PULocationID=158', 'PULocationID=159', 'PULocationID=16',\n",
       "       'PULocationID=160', 'PULocationID=161', 'PULocationID=162',\n",
       "       'PULocationID=163', 'PULocationID=164', 'PULocationID=165',\n",
       "       'PULocationID=166', 'PULocationID=167', 'PULocationID=168',\n",
       "       'PULocationID=169', 'PULocationID=17', 'PULocationID=170',\n",
       "       'PULocationID=171', 'PULocationID=172', 'PULocationID=173',\n",
       "       'PULocationID=174', 'PULocationID=175', 'PULocationID=177',\n",
       "       'PULocationID=178', 'PULocationID=179', 'PULocationID=18',\n",
       "       'PULocationID=180', 'PULocationID=181', 'PULocationID=182',\n",
       "       'PULocationID=183', 'PULocationID=184', 'PULocationID=185',\n",
       "       'PULocationID=186', 'PULocationID=187', 'PULocationID=188',\n",
       "       'PULocationID=189', 'PULocationID=19', 'PULocationID=190',\n",
       "       'PULocationID=191', 'PULocationID=192', 'PULocationID=193',\n",
       "       'PULocationID=194', 'PULocationID=195', 'PULocationID=196',\n",
       "       'PULocationID=197', 'PULocationID=198', 'PULocationID=199',\n",
       "       'PULocationID=2', 'PULocationID=20', 'PULocationID=200',\n",
       "       'PULocationID=201', 'PULocationID=202', 'PULocationID=203',\n",
       "       'PULocationID=205', 'PULocationID=206', 'PULocationID=207',\n",
       "       'PULocationID=208', 'PULocationID=209', 'PULocationID=21',\n",
       "       'PULocationID=210', 'PULocationID=211', 'PULocationID=212',\n",
       "       'PULocationID=213', 'PULocationID=214', 'PULocationID=215',\n",
       "       'PULocationID=216', 'PULocationID=217', 'PULocationID=218',\n",
       "       'PULocationID=219', 'PULocationID=22', 'PULocationID=220',\n",
       "       'PULocationID=221', 'PULocationID=222', 'PULocationID=223',\n",
       "       'PULocationID=224', 'PULocationID=225', 'PULocationID=226',\n",
       "       'PULocationID=227', 'PULocationID=228', 'PULocationID=229',\n",
       "       'PULocationID=23', 'PULocationID=230', 'PULocationID=231',\n",
       "       'PULocationID=232', 'PULocationID=233', 'PULocationID=234',\n",
       "       'PULocationID=235', 'PULocationID=236', 'PULocationID=237',\n",
       "       'PULocationID=238', 'PULocationID=239', 'PULocationID=24',\n",
       "       'PULocationID=240', 'PULocationID=241', 'PULocationID=242',\n",
       "       'PULocationID=243', 'PULocationID=244', 'PULocationID=245',\n",
       "       'PULocationID=246', 'PULocationID=247', 'PULocationID=248',\n",
       "       'PULocationID=249', 'PULocationID=25', 'PULocationID=250',\n",
       "       'PULocationID=251', 'PULocationID=252', 'PULocationID=253',\n",
       "       'PULocationID=254', 'PULocationID=255', 'PULocationID=256',\n",
       "       'PULocationID=257', 'PULocationID=258', 'PULocationID=259',\n",
       "       'PULocationID=26', 'PULocationID=260', 'PULocationID=261',\n",
       "       'PULocationID=262', 'PULocationID=263', 'PULocationID=264',\n",
       "       'PULocationID=265', 'PULocationID=28', 'PULocationID=29',\n",
       "       'PULocationID=3', 'PULocationID=30', 'PULocationID=31',\n",
       "       'PULocationID=32', 'PULocationID=33', 'PULocationID=34',\n",
       "       'PULocationID=35', 'PULocationID=36', 'PULocationID=37',\n",
       "       'PULocationID=38', 'PULocationID=39', 'PULocationID=4',\n",
       "       'PULocationID=40', 'PULocationID=41', 'PULocationID=42',\n",
       "       'PULocationID=43', 'PULocationID=44', 'PULocationID=45',\n",
       "       'PULocationID=46', 'PULocationID=47', 'PULocationID=48',\n",
       "       'PULocationID=49', 'PULocationID=5', 'PULocationID=50',\n",
       "       'PULocationID=51', 'PULocationID=52', 'PULocationID=53',\n",
       "       'PULocationID=54', 'PULocationID=55', 'PULocationID=56',\n",
       "       'PULocationID=57', 'PULocationID=58', 'PULocationID=6',\n",
       "       'PULocationID=60', 'PULocationID=61', 'PULocationID=62',\n",
       "       'PULocationID=63', 'PULocationID=64', 'PULocationID=65',\n",
       "       'PULocationID=66', 'PULocationID=67', 'PULocationID=68',\n",
       "       'PULocationID=69', 'PULocationID=7', 'PULocationID=70',\n",
       "       'PULocationID=71', 'PULocationID=72', 'PULocationID=73',\n",
       "       'PULocationID=74', 'PULocationID=75', 'PULocationID=76',\n",
       "       'PULocationID=77', 'PULocationID=78', 'PULocationID=79',\n",
       "       'PULocationID=8', 'PULocationID=80', 'PULocationID=81',\n",
       "       'PULocationID=82', 'PULocationID=83', 'PULocationID=85',\n",
       "       'PULocationID=86', 'PULocationID=87', 'PULocationID=88',\n",
       "       'PULocationID=89', 'PULocationID=9', 'PULocationID=90',\n",
       "       'PULocationID=91', 'PULocationID=92', 'PULocationID=93',\n",
       "       'PULocationID=94', 'PULocationID=95', 'PULocationID=96',\n",
       "       'PULocationID=97', 'PULocationID=98', 'trip_distance'],\n",
       "      dtype=object)"
      ]
     },
     "execution_count": 11,
     "metadata": {},
     "output_type": "execute_result"
    }
   ],
   "source": [
    "dv.get_feature_names_out()"
   ]
  },
  {
   "cell_type": "code",
   "execution_count": 12,
   "id": "d23d8a69",
   "metadata": {},
   "outputs": [
    {
     "name": "stdout",
     "output_type": "stream",
     "text": [
      "The dimensionality of the feature matrix is 516\n"
     ]
    }
   ],
   "source": [
    "print(f'The dimensionality of the feature matrix is {X_train.shape[1]}')"
   ]
  },
  {
   "cell_type": "markdown",
   "id": "7b021e79",
   "metadata": {},
   "source": [
    "Training a model"
   ]
  },
  {
   "cell_type": "code",
   "execution_count": 13,
   "id": "7e41d3a9",
   "metadata": {},
   "outputs": [
    {
     "data": {
      "text/plain": [
       "array([ 8.43333333,  6.31666667, 12.75      , ..., 24.51666667,\n",
       "       13.        , 14.4       ])"
      ]
     },
     "execution_count": 13,
     "metadata": {},
     "output_type": "execute_result"
    }
   ],
   "source": [
    "target = 'duration'\n",
    "y_train = df_train[target].values\n",
    "y_train"
   ]
  },
  {
   "cell_type": "code",
   "execution_count": 14,
   "id": "d6e91f21",
   "metadata": {},
   "outputs": [],
   "source": [
    "from sklearn.metrics import root_mean_squared_error\n",
    "\n",
    "lr = LinearRegression()\n",
    "lr.fit(X_train, y_train)\n",
    "\n",
    "y_pred = lr.predict(X_train)\n",
    "\n",
    "rmse_train = root_mean_squared_error(y_train, y_pred)"
   ]
  },
  {
   "cell_type": "code",
   "execution_count": 15,
   "id": "0856f250",
   "metadata": {},
   "outputs": [
    {
     "name": "stdout",
     "output_type": "stream",
     "text": [
      "The RMSE on training data is 7.649143388169879\n"
     ]
    }
   ],
   "source": [
    "print(f'The RMSE on training data is {rmse_train}')"
   ]
  },
  {
   "cell_type": "markdown",
   "id": "3a278b2d",
   "metadata": {},
   "source": [
    "Evaluating the model"
   ]
  },
  {
   "cell_type": "code",
   "execution_count": null,
   "id": "759cc2f0",
   "metadata": {},
   "outputs": [],
   "source": [
    "# EXECUTING THIS ALL AT ONCE SEEMS TO KEEP KILLING THE KERNEL\n",
    "\n",
    "# similarly, generating X_validation from february data\n",
    "\n",
    "# def get_training_data(raw_data):\n",
    "#     categorical_features = ['PULocationID', 'DOLocationID']\n",
    "#     numerical_features = ['trip_distance']\n",
    "\n",
    "#     # casting feature columns as strings for one hot encoding\n",
    "#     raw_data[categorical_features] = raw_data[categorical_features].astype(str)\n",
    "\n",
    "#     # turning the df into a list of dictionaries\n",
    "#     train_dicts = raw_data[categorical_features + numerical_features].to_dict(orient='records')\n",
    "\n",
    "#     dv = DictVectorizer()\n",
    "#     X_train = dv.fit_transform(train_dicts)\n",
    "\n",
    "#     return X_train\n",
    "\n",
    "# X_val = get_training_data(df_yellow_feb23)\n",
    "# X_val"
   ]
  },
  {
   "cell_type": "code",
   "execution_count": 16,
   "id": "02eb1c7a",
   "metadata": {},
   "outputs": [],
   "source": [
    "categorical_features = ['PULocationID', 'DOLocationID']\n",
    "numerical_features = ['trip_distance']\n",
    "\n",
    "# casting feature columns as strings for one hot encoding\n",
    "df_yellow_feb23[categorical_features] = df_yellow_feb23[categorical_features].astype(str)"
   ]
  },
  {
   "cell_type": "code",
   "execution_count": 17,
   "id": "74b46b47",
   "metadata": {},
   "outputs": [
    {
     "ename": "",
     "evalue": "",
     "output_type": "error",
     "traceback": [
      "\u001b[1;31mThe Kernel crashed while executing code in the current cell or a previous cell. \n",
      "\u001b[1;31mPlease review the code in the cell(s) to identify a possible cause of the failure. \n",
      "\u001b[1;31mClick <a href='https://aka.ms/vscodeJupyterKernelCrash'>here</a> for more info. \n",
      "\u001b[1;31mView Jupyter <a href='command:jupyter.viewOutput'>log</a> for further details."
     ]
    }
   ],
   "source": [
    "# turning the df into a list of dictionaries\n",
    "val_dicts = df_yellow_feb23[categorical_features + numerical_features].to_dict(orient='records')\n",
    "\n",
    "dv = DictVectorizer()\n",
    "X_val = dv.fit_transform(val_dicts)"
   ]
  }
 ],
 "metadata": {
  "kernelspec": {
   "display_name": "Python 3 (ipykernel)",
   "language": "python",
   "name": "python3"
  },
  "language_info": {
   "codemirror_mode": {
    "name": "ipython",
    "version": 3
   },
   "file_extension": ".py",
   "mimetype": "text/x-python",
   "name": "python",
   "nbconvert_exporter": "python",
   "pygments_lexer": "ipython3",
   "version": "3.9.12"
  }
 },
 "nbformat": 4,
 "nbformat_minor": 5
}
